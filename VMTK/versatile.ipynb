{
 "cells": [
  {
   "cell_type": "code",
   "execution_count": 6,
   "metadata": {},
   "outputs": [],
   "source": [
    "import shutil\n",
    "import os\n",
    "\n",
    "root = \"/media/meifeng/b1a86f8c-b396-48b9-9666-2c6b304e43d4/AneuG_CFD/stable_64_v3_pool\"\n",
    "new_root = \"/media/meifeng/b1a86f8c-b396-48b9-9666-2c6b304e43d4/AneuG_CFD/mesh_convergence\"\n",
    "case_list = [5120, 7089, 9900]\n",
    "# 5120\n",
    "dpi = 7\n",
    "file_to_copy = [\"checkpoint.npy\", \"flowsplit_ratio.txt\", \"shape.obj\", \"shape_remeshed.obj\", \"shape_remeshed.vtp\"]\n",
    "\n",
    "if not os.path.exists(new_root):\n",
    "    os.makedirs(new_root)\n",
    "for case in case_list:\n",
    "    new_dir = os.path.join(new_root, str(case))\n",
    "    for dpi_ in range(dpi):\n",
    "        new_dir_ = os.path.join(new_dir, str(dpi_))\n",
    "        if not os.path.exists(new_dir_):\n",
    "            os.makedirs(new_dir_)\n",
    "        old_dir = os.path.join(root, \"stable_\"+str(case))\n",
    "        for file in file_to_copy:\n",
    "            old_file = os.path.join(old_dir, file)\n",
    "            new_file = os.path.join(new_dir_, file)\n",
    "            if os.path.exists(old_file):\n",
    "                shutil.copyfile(old_file, new_file)\n",
    "\n"
   ]
  }
 ],
 "metadata": {
  "kernelspec": {
   "display_name": "vmtk_add",
   "language": "python",
   "name": "python3"
  },
  "language_info": {
   "codemirror_mode": {
    "name": "ipython",
    "version": 3
   },
   "file_extension": ".py",
   "mimetype": "text/x-python",
   "name": "python",
   "nbconvert_exporter": "python",
   "pygments_lexer": "ipython3",
   "version": "3.8.20"
  }
 },
 "nbformat": 4,
 "nbformat_minor": 2
}
