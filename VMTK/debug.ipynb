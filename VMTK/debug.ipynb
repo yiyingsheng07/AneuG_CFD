{
 "cells": [
  {
   "cell_type": "code",
   "execution_count": 3,
   "metadata": {},
   "outputs": [
    {
     "data": {
      "application/vnd.jupyter.widget-view+json": {
       "model_id": "f3ac0a4cd9f14480b569969ee50d396f",
       "version_major": 2,
       "version_minor": 0
      },
      "text/plain": [
       "EmbeddableWidget(value='<iframe srcdoc=\"<!DOCTYPE html>\\n<html>\\n  <head>\\n    <meta http-equiv=&quot;Content-…"
      ]
     },
     "metadata": {},
     "output_type": "display_data"
    }
   ],
   "source": [
    "import pyvista as pv\n",
    "import os\n",
    "pv.set_jupyter_backend('html')\n",
    "pv.start_xvfb()\n",
    "\n",
    "mesh_path = \"AneuG/datasets/stable_64/debug/shape2.obj\"\n",
    "mesh = pv.read(mesh_path)\n",
    "mesh.plot(show_edges=True, color='w', cpos='xy')\n",
    "\n",
    "mesh.save(os.path.join(os.path.dirname(mesh_path), \"shape2.vtp\"))"
   ]
  },
  {
   "cell_type": "code",
   "execution_count": 1,
   "metadata": {},
   "outputs": [
    {
     "name": "stdout",
     "output_type": "stream",
     "text": [
      "[0.07688566 0.05704967 0.06412178]\n"
     ]
    }
   ],
   "source": [
    "import numpy as np\n",
    "path = \"AneuG/datasets/stable_64_v1/debug/checkpoint.npy\"\n",
    "data = np.load(path, allow_pickle=True).item()\n",
    "print(data['opening_radius'])"
   ]
  }
 ],
 "metadata": {
  "kernelspec": {
   "display_name": "gnn2",
   "language": "python",
   "name": "python3"
  },
  "language_info": {
   "codemirror_mode": {
    "name": "ipython",
    "version": 3
   },
   "file_extension": ".py",
   "mimetype": "text/x-python",
   "name": "python",
   "nbconvert_exporter": "python",
   "pygments_lexer": "ipython3",
   "version": "3.8.13"
  }
 },
 "nbformat": 4,
 "nbformat_minor": 2
}
