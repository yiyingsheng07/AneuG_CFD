{
 "cells": [
  {
   "cell_type": "code",
   "execution_count": 2,
   "metadata": {},
   "outputs": [],
   "source": [
    "from vmtk_cfdmesher import cfdmesher_single"
   ]
  },
  {
   "cell_type": "code",
   "execution_count": null,
   "metadata": {},
   "outputs": [
    {
     "name": "stdout",
     "output_type": "stream",
     "text": [
      "Reading VTK XML mesh file.\n",
      "[0 0 0 ..., 2 3 3]\n"
     ]
    }
   ],
   "source": [
    "import os\n",
    "import os, sys, copy, readline\n",
    "import vmtk\n",
    "from vmtk import vmtkscripts\n",
    "import numpy as np\n",
    "import vtk\n",
    "from vtk.vtkCommonCore import vtkObject\n",
    "from vtk.util import numpy_support as ns\n",
    "\n",
    "fname = \"shape.vtu\"\n",
    "idir = \"data\"\n",
    "name = os.path.splitext(fname)[0]\n",
    "\n",
    "# read vtu\n",
    "mesh_reader = vmtk.vmtkmeshreader.vmtkMeshReader()\n",
    "mesh_reader.InputFileName = idir + '/' + fname\n",
    "mesh_reader.Execute()\n",
    "# convert vtu to np array\n",
    "mesh2np = vmtk.vmtkmeshtonumpy.vmtkMeshToNumpy()\n",
    "mesh2np.Mesh = mesh_reader.Mesh\n",
    "mesh2np.Execute()\n",
    "mesh_arr = mesh2np.ArrayDict\n",
    "# read vtu with vtk\n",
    "vtk_reader = vtk.vtkXMLUnstructuredGridReader()\n",
    "vtk_reader.SetFileName(idir + '/' + fname)\n",
    "vtk_reader.Update()\n",
    "ugrid = vtk_reader.GetOutput()\n",
    "# get indices of two triangles (id=2, id=3)\n",
    "print(mesh_arr['CellData']['CellEntityIds'])"
   ]
  }
 ],
 "metadata": {
  "kernelspec": {
   "display_name": "vmtk_env",
   "language": "python",
   "name": "python3"
  },
  "language_info": {
   "codemirror_mode": {
    "name": "ipython",
    "version": 3
   },
   "file_extension": ".py",
   "mimetype": "text/x-python",
   "name": "python",
   "nbconvert_exporter": "python",
   "pygments_lexer": "ipython3",
   "version": "3.6.1"
  }
 },
 "nbformat": 4,
 "nbformat_minor": 2
}
