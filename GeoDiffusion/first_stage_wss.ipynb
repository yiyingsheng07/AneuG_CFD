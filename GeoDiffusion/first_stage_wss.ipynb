{
 "cells": [
  {
   "cell_type": "code",
   "execution_count": null,
   "metadata": {},
   "outputs": [],
   "source": [
    "import torch\n",
    "from torch.utils.data import DataLoader\n",
    "from datasets.wss import read_ansys_csv\n",
    "import os\n",
    "from models.field_vae.base import SurfaceFieldAutoEncoder\n",
    "import torch.nn as nn"
   ]
  },
  {
   "cell_type": "code",
   "execution_count": null,
   "metadata": {},
   "outputs": [],
   "source": [
    "from datasets.wss import WSSPeakDataset\n",
    "from losses.base import KLSurfaceField\n",
    "\n",
    "batch_size = 32\n",
    "train_split = 0.8\n",
    "\n",
    "root_dir = '/media/yaplab/HDD_Storage/wenhao/datasets/AneuG_CFD/peak_wss'\n",
    "dataset = WSSPeakDataset(root_dir, encode_size=16800, decode_size=3600)\n",
    "train_size = int(train_split * len(dataset))\n",
    "test_size = len(dataset) - train_size\n",
    "train_dataset, test_dataset = torch.utils.data.random_split(dataset, [train_size, test_size])\n",
    "train_loader = DataLoader(train_dataset, batch_size=batch_size, shuffle=False)\n",
    "test_loader = DataLoader(test_dataset, batch_size=batch_size, shuffle=False)\n",
    "loss_module = KLSurfaceField(kl_weight=0.00001)\n",
    "recon_loss_module = nn.MSELoss()\n"
   ]
  },
  {
   "cell_type": "code",
   "execution_count": null,
   "metadata": {},
   "outputs": [],
   "source": [
    "device = torch.device(\"cuda:0\")\n",
    "num_latents = 64\n",
    "feature_dim = 1\n",
    "embed_dim = 16\n",
    "num_freqs = 8\n",
    "width = 768 // 4\n",
    "heads = 12 // 4\n",
    "num_encoder_layers = 8\n",
    "num_decoder_layers = 16\n",
    "\n",
    "SurfaceFieldVAE = SurfaceFieldAutoEncoder(device=device,\n",
    "                                          num_latents=num_latents,\n",
    "                                          feature_dim=feature_dim,\n",
    "                                          embed_dim=embed_dim,\n",
    "                                          num_freqs=num_freqs,\n",
    "                                          width=width,\n",
    "                                          heads=heads,\n",
    "                                          num_encoder_layers=num_encoder_layers,\n",
    "                                          num_decoder_layers=num_decoder_layers)\n",
    "SurfaceFieldVAE = nn.DataParallel(SurfaceFieldVAE, device_ids=[0, 1])\n",
    "SurfaceFieldVAE.to(device)"
   ]
  },
  {
   "cell_type": "code",
   "execution_count": null,
   "metadata": {},
   "outputs": [],
   "source": [
    "import wandb\n",
    "log_wandb = False\n",
    "meta = \"debug\"\n",
    "if log_wandb:\n",
    "    wandb.login()\n",
    "    run = wandb.init(project=\"geodiffusion\",\n",
    "                     name=meta)\n",
    "    \n",
    "optimizer = torch.optim.AdamW(SurfaceFieldVAE.parameters(), lr=3e-4)\n",
    "scheduler = torch.optim.lr_scheduler.StepLR(optimizer, step_size=2500, gamma=0.5)"
   ]
  },
  {
   "cell_type": "code",
   "execution_count": null,
   "metadata": {},
   "outputs": [],
   "source": [
    "for epoch in range(100000+1):\n",
    "    for i, data in enumerate(train_loader):\n",
    "        optimizer.zero_grad()\n",
    "        data = {key: value.to(device) for key, value in data.items()}\n",
    "        coords, feats, recon_coords, recon_feats_true = data['coords'], data['feats'], data['recon_coords'], data['recon_feats']\n",
    "        recon_feats_true = recon_feats_true.squeeze(-1)\n",
    "        recon_feats_pred, center_pos, kl_loss = SurfaceFieldVAE(coords, feats, recon_coords, sample_posterior=True)\n",
    "        kl_loss = torch.mean(kl_loss)\n",
    "        recon_loss = recon_loss_module(recon_feats_pred, recon_feats_true)\n",
    "        loss = recon_loss + kl_loss * 0.00001\n",
    "        loss.backward()\n",
    "        optimizer.step()\n",
    "    \n",
    "    if epoch % 100 == 0:\n",
    "        recon_loss_test = 0.0\n",
    "        for j, data in enumerate(test_loader):\n",
    "            data = {key: value.to(device) for key, value in data.items()}\n",
    "            coords, feats, recon_coords, recon_feats_true = data['coords'], data['feats'], data['recon_coords'], data['recon_feats']\n",
    "            recon_feats_true = recon_feats_true.squeeze(-1)\n",
    "            recon_feats_pred, center_pos, _ = SurfaceFieldVAE(coords, feats, recon_coords, sample_posterior=True)\n",
    "            loss_test = recon_loss_module(recon_feats_pred, recon_feats_true)\n",
    "            recon_loss_test += loss_test.item() / len(test_loader)\n",
    "        print(f'Epoch: {epoch}, Test Loss: {recon_loss_test}')\n",
    "    \n",
    "    log_dict = {'recon_loss': recon_loss, 'kl_loss': kl_loss, 'test_loss': recon_loss_test}\n",
    "    print(log_dict)\n",
    "    if log_wandb:\n",
    "        wandb.log(log_dict, step=epoch)\n",
    "    \n",
    "    scheduler.step()\n",
    "wandb.finish"
   ]
  }
 ],
 "metadata": {
  "kernelspec": {
   "display_name": "gnn2",
   "language": "python",
   "name": "python3"
  },
  "language_info": {
   "codemirror_mode": {
    "name": "ipython",
    "version": 3
   },
   "file_extension": ".py",
   "mimetype": "text/x-python",
   "name": "python",
   "nbconvert_exporter": "python",
   "pygments_lexer": "ipython3",
   "version": "3.8.13"
  }
 },
 "nbformat": 4,
 "nbformat_minor": 2
}
